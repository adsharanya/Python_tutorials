{
  "cells": [
    {
      "metadata": {
        "_uuid": "8f2839f25d086af736a60e9eeb907d3b93b6e0e5",
        "_cell_guid": "b1076dfc-b9ad-4769-8c92-a6c4dae69d19",
        "trusted": true,
        "collapsed": true
      },
      "cell_type": "markdown",
      "source": "# This is a tutorial on python classes.\n"
    },
    {
      "metadata": {
        "trusted": true,
        "_uuid": "c6797c6f5a09590dca185a740105cee9ddbe2499",
        "collapsed": true
      },
      "cell_type": "code",
      "source": "#This was created as a refresher for myself. \n#Follow comments to understand class object, methods, instance attributes, methods and subclasses.\n\n#This was created by following these youtube videos:\n#    https://www.youtube.com/watch?v=ZDa-Z5JzLYM\n#    https://www.youtube.com/watch?v=BJ-VvGyQxho\n#    https://www.youtube.com/watch?v=rq8cL2XMM5M\n#    https://www.youtube.com/watch?v=RSl87lqOXDE\n#    Thanks to Corey Schafer\n\nclass Person:    #this is the name of the python class\n    \n    #these are class_variables. These will be common for all instances of this class.\n    class_height = 100\n    class_weight = 20\n    num_of_persons = 0\n    \n    #this is the initi function for the instance variable\n    def __init__(self, name, height, weight): #all instance method's 1st input is the instance.\n                                              #by convention this is self\n        self.name = name\n        self.height = height\n        self.weight = weight\n        Person.num_of_persons += 1    #you can change a class attribute this way.\n        \n    #this is an example of instance method\n    def change_height(self,height_from_user): #it has self as 1st input (which is required). the 2nd variable is \n                                            #what will be passed by user when this methos will be called.\n        self.height = height_from_user\n        \n    #below is an example of class method    \n    @classmethod\n    def change_height_of_class(cls,send_height):\n        cls.class_height = send_height\n        \n    #below is an example of using class method as alternative constructor\n    #say the input is in a different format then you would call the below method to \n    #create an instance\n    @classmethod #this is called a decorator\n    def from_string(cls,input_string):\n        name, height, weight = input_string.split('-')\n        return cls(name, height, weight)\n    \n    \n    #below is an example of static method\n    #static methods dont call self(i.e., instance) or cls(i.e., class) \n    #python has method called weekday, if day = Monday, it'll return 0.\n    #if Sunday it'll return 6, etc.\n    #the below static method was created to check if a given day is Saturday or Sunday\n    \n    @staticmethod \n    def check_day(day):\n        if day.weekday == 5 or day.weekday == 6:\n            return True\n        return False\n    \n    #below is an example of inheritance. The class Employed_Person (is a subclass of Person) calls \n    #the class Person. When an instance of Employed_Person is created, it'll create\n    #all attributes and methods of class Person      \nclass Employed_Person(Person):\n    pass\n\n   #below I'm going to creat a bit more complicated subclass\nclass Employed_Person_complex(Person):\n    class_height = 200 #this gets precedace over the class_height attribute of class Person\n    \n    def __init__(self,name,height,weight,job):\n        super().__init__(name,height,weight)     #this lets you use name, height and weight from class Person\n        self.job = job                           #this lets you set the additional attribute job for subclass Employed_Person_Complex\n   \n   #below I'm creating another subclass called Supervisors. These supervisors will have employed persons reporting to them.\n#We want to keep track of the persons reporting to the supervisors\n\nclass Supervisor(Person):\n    \n    def __init__(self, name, height, weight, reporting_employees=None):   #the init function has the new attribute reporting_employees\n        super().__init__(name, height, weight)\n        if reporting_employees is None:\n            self.reporting_employees = []\n        else:\n            self.reporting_employees = reporting_employees\n            \n    def add_employee(self, new_employee):                         #add a new employee\n        if new_employee not in self.reporting_employees:\n            self.reporting_employees.append(new_employee)\n            \n    def del_employee(self, del_employee):                      #del employee\n        self.reporting_employees.remove(del_employee)\n        \n    def show_employees(self):                                  #display all employees\n        for emp in self.reporting_employees:\n            print('------->', emp.name)\n            print('----employee job is ', emp.job)\n        ",
      "execution_count": 208,
      "outputs": []
    },
    {
      "metadata": {
        "trusted": true,
        "_uuid": "96a5877ae86a768ed0d36cd60ae9d1e6e2478c5c",
        "collapsed": true
      },
      "cell_type": "code",
      "source": "#Initilizing instance variables\nprint(Person.num_of_persons)   \nperson_1 = Person('Joe','150','30')\nperson_2 = Person('Jill','200','36')\nprint(Person.num_of_persons)",
      "execution_count": 209,
      "outputs": []
    },
    {
      "metadata": {
        "trusted": true,
        "_uuid": "93f6d87dc73245dcf2ae4ca1416dd17096bb5f6b",
        "collapsed": true
      },
      "cell_type": "code",
      "source": "#Now changing a few things..\nperson_1.change_height(110)\nprint(person_1.height)\nprint(person_1.class_height)\nPerson.change_height_of_class(120)\nprint(Person.class_height)",
      "execution_count": 210,
      "outputs": []
    },
    {
      "metadata": {
        "trusted": true,
        "collapsed": true,
        "_uuid": "39d3392e1710422d16a5b983c3d2ce794c06f8d7"
      },
      "cell_type": "code",
      "source": "#Input string as input (call class method)\nperson_3 = Person.from_string('Jack-220-34')",
      "execution_count": 211,
      "outputs": []
    },
    {
      "metadata": {
        "trusted": true,
        "_uuid": "82d0a6367eaa741e0c01bbd75a1906dd96e9acb6",
        "collapsed": true
      },
      "cell_type": "code",
      "source": "import datetime\nmy_time = datetime.date(2016,10,10)\nPerson.check_day(my_time)   #checking if given date is Saturday or Sunday\n",
      "execution_count": 212,
      "outputs": []
    },
    {
      "metadata": {
        "trusted": true,
        "_uuid": "fcc9002c7c1f73913b2930feceb3ae0d206cce78",
        "collapsed": true
      },
      "cell_type": "code",
      "source": "person_1.__dict__  #do dict to check attributes associted with an instance or class",
      "execution_count": 213,
      "outputs": []
    },
    {
      "metadata": {
        "trusted": true,
        "_uuid": "f0179aba6995f4a7512233338ebd3d9da3fd0ca8",
        "collapsed": true
      },
      "cell_type": "code",
      "source": "Person.__dict__",
      "execution_count": 214,
      "outputs": []
    },
    {
      "metadata": {
        "trusted": true,
        "_uuid": "0990903bcdc715b0023ff4bde2fcfbc20b0da0a8",
        "collapsed": true
      },
      "cell_type": "code",
      "source": "print(help(Employed_Person)) #use this help function to see the method order resolution for inherited classes.",
      "execution_count": 215,
      "outputs": []
    },
    {
      "metadata": {
        "trusted": true,
        "collapsed": true,
        "_uuid": "733e5f0e879ee1d61aa99ae0319e3c3ba1d88ed8"
      },
      "cell_type": "code",
      "source": "emp_person_1 = Employed_Person_complex('Mary', 150, 39, 'pilot')\nemp_person_2 = Employed_Person_complex('Julie', 150, 39, 'cabdriver')\nemp_person_3 = Employed_Person_complex('Sandra', 150, 39, 'seacaptain')",
      "execution_count": 216,
      "outputs": []
    },
    {
      "metadata": {
        "trusted": true,
        "_uuid": "b974ee36836ecba4140020f1aaf274d94e364f3e",
        "collapsed": true
      },
      "cell_type": "code",
      "source": "sup_person_1 = Supervisor('Sheryl', 170, 40, [])",
      "execution_count": 217,
      "outputs": []
    },
    {
      "metadata": {
        "trusted": true,
        "collapsed": true,
        "_uuid": "7cee2096587ca9d844ec8a5e7eea32c0174245ec"
      },
      "cell_type": "code",
      "source": "sup_person_1.add_employee(emp_person_1)\nsup_person_1.add_employee(emp_person_2)\nsup_person_1.add_employee(emp_person_3)",
      "execution_count": 218,
      "outputs": []
    },
    {
      "metadata": {
        "trusted": true,
        "_uuid": "02c13c85c07f9203a6839d57f6d6bc3a4455d049",
        "collapsed": true
      },
      "cell_type": "code",
      "source": "sup_person_1.show_employees()",
      "execution_count": 219,
      "outputs": []
    },
    {
      "metadata": {
        "trusted": true,
        "_uuid": "fe4ec4a5f5c5841d0ebf07dec3a08859a097b3be",
        "collapsed": true
      },
      "cell_type": "code",
      "source": "sup_person_1.del_employee(emp_person_2)\nsup_person_1.show_employees()",
      "execution_count": 220,
      "outputs": []
    },
    {
      "metadata": {
        "trusted": true,
        "_uuid": "74e8856f6bb1ba2d1242b851204040eb87de8516",
        "collapsed": true
      },
      "cell_type": "code",
      "source": "#check if instance is of a class\nprint(isinstance(sup_person_1,Person))\nprint(isinstance(sup_person_1,Supervisor))\nprint(isinstance(sup_person_1,Employed_Person_complex))",
      "execution_count": 221,
      "outputs": []
    },
    {
      "metadata": {
        "trusted": true,
        "collapsed": true,
        "_uuid": "aa88e80a820a5501f3ccbb6a9fe84dd04fca3fc6"
      },
      "cell_type": "code",
      "source": "",
      "execution_count": null,
      "outputs": []
    },
    {
      "metadata": {
        "trusted": true,
        "collapsed": true,
        "_uuid": "c372d36ded9d25fc16eb814cc8231ab3ea91e161"
      },
      "cell_type": "code",
      "source": "",
      "execution_count": null,
      "outputs": []
    }
  ],
  "metadata": {
    "kernelspec": {
      "display_name": "Python 3",
      "language": "python",
      "name": "python3"
    },
    "language_info": {
      "name": "python",
      "version": "3.6.5",
      "mimetype": "text/x-python",
      "codemirror_mode": {
        "name": "ipython",
        "version": 3
      },
      "pygments_lexer": "ipython3",
      "nbconvert_exporter": "python",
      "file_extension": ".py"
    }
  },
  "nbformat": 4,
  "nbformat_minor": 1
}